{
 "cells": [
  {
   "cell_type": "raw",
   "metadata": {
    "vscode": {
     "languageId": "raw"
    }
   },
   "source": [
    "---\n",
    "title: \"STATS/CSE 780 - Homework Assignment 1\"\n",
    "author: \"Toktam Rashidi Shahri (Student Number: XXX)\"\n",
    "date: \"2025/09/22\"\n",
    "format: pdf\n",
    "header-includes:\n",
    "   - \\usepackage{amsmath}\n",
    "   - \\usepackage{float}\n",
    "bibliography: STATS780.bib\n",
    "fontsize: 11pt\n",
    "geometry: \n",
    "  - margin = 1in\n",
    "linestretch: 1.5\n",
    "bibliography: STATS780.bib\n",
    "reference-location: section\n",
    "---"
   ]
  },
  {
   "cell_type": "markdown",
   "metadata": {
    "vscode": {
     "languageId": "python"
    }
   },
   "source": [
    "\\newpage"
   ]
  },
  {
   "cell_type": "markdown",
   "metadata": {},
   "source": [
    "### Dataset Sourcing\n",
    "As indicated in the assignment description, I used the [Open Government Portal](https://search.open.canada.ca/opendata/) with filters _Open Data_, _Open Maps_, _Datatset_, _GeoTif_, and _Tif_. The search gave me over 300 results, from which I chose [Annual Crop Inventory](https://open.canada.ca/data/en/dataset/ba2645d5-4458-414d-b196-6303ac06c1c9). This data is punlished annually in GeoTif format, with a spatial resolution of 30m pixels, subdivided at provincial boundaries. My variables of interest are _time_, _crop density_[^1], and _crop type_.  Per type, I have chosen to focus on corn and soybeans.\n",
    "\n",
    "[^1]: Crop density is not explicitly given in the datasets, however, the spatial density of each crop can be calculated using that crop's pixel count divided by the total pixel count of all crops in the province."
   ]
  },
  {
   "cell_type": "markdown",
   "metadata": {},
   "source": [
    "### Application Description\n",
    "I decided to use the crop data for 10 consecutive years (2015-2024) to **study the spatial and temporal change of the two most widely grown crops in Onrario: _corn_ and _soybean_**. I chose the Provice Ontario because it is the most agricultrally active province in Canada, and it is also interesting to me as it is where I live. Moreover, I chose corn and soybean not only becase they are widely grown, but also because our nutriotion strogly depends on them in terms of grains, sugars, and oil. "
   ]
  },
  {
   "cell_type": "markdown",
   "metadata": {},
   "source": [
    "### Data Transformation and Preprocessing\n",
    "1.  I downloaded the Tif files for Ontario for the 2015 to 2024 period. Each file is about 1GB, and contains the crop data for all crop times in the provice, as well as data for lands that are not used for agriculture, or where clouds made it impossible to determine the crop type. I do not need all this data, so I filtered it and made new dataframes which I later used for my analysis.\n",
    "2.  I used the 'rasterio' package to read the files, and converted the coordinates to longitude and latitude. \n",
    "3.  I am interested in corn and soybean, so I filtered the data for each year to oly contain the pixels for these two crops. So, for each year, I have a dataframe with 3 colums: longitude, latitude, and crop type (corn or soybean). There was not missing data for crops (in the original data, there are pixels where it was impossible to determine crop type because of clouds, these areas have a different code and are already eliminated with the initial filtering).\n",
    "4.  I am also interested in the spatial density of these crops for each year, so I made a new dataframe that contains year, total crop pixel count, corn pixel count, and soybean pixel count. Using this dataframe, I will later calculate the spatial density for each crop per year. Here, I ignored the lands that were not used for agriculture, as well as the lands covered by clouds (which could be used for agriculture, but is essentially missing data)."
   ]
  },
  {
   "cell_type": "markdown",
   "metadata": {},
   "source": [
    "### Single Variable Analysis\n",
    "##### **Questions:** \n",
    "1. How has the density of corn changed from 2015 to 2024 in Ontario?\n",
    "2. How has the spatial coverage of corn changed from 2015 to 2024 in Ontario?"
   ]
  },
  {
   "cell_type": "markdown",
   "metadata": {},
   "source": [
    "### Multi Variable Analysis\n",
    "##### **Questions:** \n",
    "1. How has the density of corn compare yearly to that of soybean from 2015 to 2024 in Ontario?\n",
    "2. Is there any spatial relationship between the locations of corn and soybean crops in Ontario in 2024?"
   ]
  },
  {
   "cell_type": "markdown",
   "metadata": {},
   "source": [
    "### Shiny App"
   ]
  },
  {
   "cell_type": "markdown",
   "metadata": {},
   "source": [
    "\\newpage\n",
    "\n",
    "## References"
   ]
  },
  {
   "cell_type": "markdown",
   "metadata": {},
   "source": [
    "\\newpage\n",
    "\n",
    "## Supplementary material\n",
    "\n",
    "1.  The code that would have interrupted the flow of the body of the assignment.\n",
    "\n",
    "2.  Reproducible.\n",
    "\n",
    "We use `cars` dataset in `openml` to predict mile per gallon (mpg) using weight of the car (weight).\n",
    "First, we split the `cars` dataset into train/test sets. Then, we use `scit-learn` to fit a linear regression model on the train set. Next, we use compute mean squared error of prediction on the test set. Finally, we do diagnostics of the fit."
   ]
  },
  {
   "cell_type": "markdown",
   "metadata": {},
   "source": [
    "Note: We show only the codes used to get the results in the report. We can use `echo = FLASE` to hide the other codes in the supplementary material.\n"
   ]
  }
 ],
 "metadata": {
  "kernelspec": {
   "display_name": ".venv (3.11.8)",
   "language": "python",
   "name": "python3"
  },
  "language_info": {
   "codemirror_mode": {
    "name": "ipython",
    "version": 3
   },
   "file_extension": ".py",
   "mimetype": "text/x-python",
   "name": "python",
   "nbconvert_exporter": "python",
   "pygments_lexer": "ipython3",
   "version": "3.11.8"
  }
 },
 "nbformat": 4,
 "nbformat_minor": 2
}
