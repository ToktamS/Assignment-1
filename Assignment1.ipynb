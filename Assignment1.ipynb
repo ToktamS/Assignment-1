{
 "cells": [
  {
   "cell_type": "raw",
   "metadata": {
    "vscode": {
     "languageId": "raw"
    }
   },
   "source": [
    "---\n",
    "title: \"STATS/CSE 780 - Homework assignment 1\"\n",
    "author: \"Pratheepa Jeganathan (Student number: XXX)\"\n",
    "date: \"2025/09/08\"\n",
    "format: pdf\n",
    "header-includes:\n",
    "   - \\usepackage{amsmath}\n",
    "   - \\usepackage{float}\n",
    "bibliography: STATS780.bib\n",
    "fontsize: 11pt\n",
    "geometry: \n",
    "  - margin = 1in\n",
    "linestretch: 1.5\n",
    "bibliography: STATS780.bib\n",
    "reference-location: section\n",
    "---"
   ]
  },
  {
   "cell_type": "markdown",
   "metadata": {
    "vscode": {
     "languageId": "python"
    }
   },
   "source": [
    "Note: This is a template for homework assignments.\n",
    "\n",
    "\\textbf{Change this document name to your name and write your Student number.}\n",
    "\n",
    "\\newpage"
   ]
  },
  {
   "cell_type": "markdown",
   "metadata": {},
   "source": [
    "## Introduction\n",
    "\n",
    "1.  Describe your data.\n",
    "\n",
    "2.  Describe your data source.\n",
    "\n",
    "3.  Describe your data gathering.\n",
    "\n",
    "4.  Describe your data transformation.\n",
    "\n",
    "5.  Describe the problems to be addressed and identify that you can use the method in question (exploratory analysis, prediction, classification, clustering, dimensionality reduction, etc.).\n",
    "\n",
    "6.  Write a literature review (at least recent two references) on addressing a similar kind of problem.\n",
    "\n"
   ]
  },
  {
   "cell_type": "markdown",
   "metadata": {},
   "source": [
    "\n",
    "\n"
   ]
  },
  {
   "cell_type": "markdown",
   "metadata": {},
   "source": [
    "## Discussion or conclusion\n",
    "\n",
    "1.  Discuss about the results. What are the pros and cons of the method used to solve the problem.\n",
    "\n",
    "2.  Discuss whether we can choose different methods or transformation or model selection criterion to improve the predictive performance or learning patterns.\n",
    "\n",
    "3.  Do we have enough sample to train the model? Do we have missing vlaues - can we handle them differently? Discuss whether the method can be extended to different domain.\n",
    "\n",
    "Supp. @fig-linear-regression2 shows the association between car speed and distance. We observed a linear trend.\n",
    "\n"
   ]
  },
  {
   "cell_type": "markdown",
   "metadata": {},
   "source": [
    "## How to create references list\n",
    "1. Create a `STATS780.bib` file for references.\n",
    "2. Go to Google scholar, search for the paper, click on the `cite` button and then click on `BibTeX` to get the citation in BibTeX format.\n",
    "3. Copy and paste the BibTeX format in the `STATS780.bib` file.\n",
    "4. Add in the YAML header: `bibliography: STATS780.bib`\n",
    "5. Cite the references in the body of the assignment. \n",
    "    - Use tag `@key`, where key is the citation key in the `STATS780.bib` file.\n",
    "    - Use multiple keys separated by semicolon for multiple citations, e.g., `@key1; @key2`.\n",
    "    - Example. I cite the textbook [@hastie2009elements] here. \n"
   ]
  },
  {
   "cell_type": "markdown",
   "metadata": {},
   "source": [
    "\\newpage\n",
    "\n",
    "## References"
   ]
  },
  {
   "cell_type": "markdown",
   "metadata": {},
   "source": [
    "\\newpage\n",
    "\n",
    "## Supplementary material\n",
    "\n",
    "1.  The code that would have interrupted the flow of the body of the assignment.\n",
    "\n",
    "2.  Reproducible.\n",
    "\n",
    "We use `cars` dataset in `openml` to predict mile per gallon (mpg) using weight of the car (weight).\n",
    "First, we split the `cars` dataset into train/test sets. Then, we use `scit-learn` to fit a linear regression model on the train set. Next, we use compute mean squared error of prediction on the test set. Finally, we do diagnostics of the fit."
   ]
  },
  {
   "cell_type": "markdown",
   "metadata": {},
   "source": [
    "Note: We show only the codes used to get the results in the report. We can use `echo = FLASE` to hide the other codes in the supplementary material.\n"
   ]
  }
 ],
 "metadata": {
  "kernelspec": {
   "display_name": ".venv (3.11.8)",
   "language": "python",
   "name": "python3"
  },
  "language_info": {
   "codemirror_mode": {
    "name": "ipython",
    "version": 3
   },
   "file_extension": ".py",
   "mimetype": "text/x-python",
   "name": "python",
   "nbconvert_exporter": "python",
   "pygments_lexer": "ipython3",
   "version": "3.11.8"
  }
 },
 "nbformat": 4,
 "nbformat_minor": 2
}
